{
 "cells": [
  {
   "cell_type": "markdown",
   "metadata": {},
   "source": [
    "# Programmation orientée objet"
   ]
  },
  {
   "cell_type": "code",
   "execution_count": 105,
   "metadata": {},
   "outputs": [],
   "source": [
    "class Vehicule:\n",
    "    \"\"\"Definition de la classe Vehicule\"\"\"\n",
    "    # Constructeur\n",
    "    def __init__(self, roues, couleur, marque):\n",
    "        # Création d'attributs d'instance\n",
    "        self.roues = roues\n",
    "        self.couleur = couleur\n",
    "        self.marque = marque\n",
    "        Vehicule.nombre_vehicule += 1\n",
    "        print(f\"Nous créeons un véhicule à {self.roues} roues, de couleur {self.couleur}, de marque {self.marque}.\")\n",
    "        print(f\"Numéro de série : {Vehicule.nombre_vehicule}\")\n",
    "\n",
    "    # Attribut de classe    \n",
    "    volant = True\n",
    "    nombre_vehicule = 0\n",
    "\n",
    "    # Methode statique (méthode de classe)\n",
    "    @staticmethod\n",
    "    def mouvement():\n",
    "        \"\"\"Tous les véhicules peuvent se déplacer\"\"\"\n",
    "        print(\"Voyage d'un point A à un point B\")\n",
    "    @staticmethod\n",
    "    def afficher_total():\n",
    "        \"\"\"Affiche le nombre total de véhicules en circulation\"\"\"\n",
    "        print(f\"Il y a {Vehicule.nombre_vehicule} véhicules en circulation.\")\n",
    "\n",
    "    # Methode d'instance\n",
    "    def roule(self):\n",
    "        print('La voiture roule')\n",
    "\n",
    "    def afficher_marque(self):\n",
    "        \"\"\"Affiche la marque du véhicule\"\"\"\n",
    "        print(f\"Le marque du véhicule est : \", self.marque)\n",
    "\n",
    "    def afficher_prix(self, prix=3000):\n",
    "        \"\"\"Affiche le prix du véhicule. Le prix par défaut est de 3000\"\"\"\n",
    "        print(f\"Le prix est : {prix}\")\n"
   ]
  },
  {
   "cell_type": "code",
   "execution_count": 106,
   "metadata": {},
   "outputs": [
    {
     "name": "stdout",
     "output_type": "stream",
     "text": [
      "Nous créeons un véhicule à 4 roues, de couleur rouge, de marque Twingo.\n",
      "Numéro de série : 1\n",
      "Nous créeons un véhicule à 2 roues, de couleur Verte, de marque Kawasaki.\n",
      "Numéro de série : 2\n"
     ]
    }
   ],
   "source": [
    "voiture_rouge = Vehicule(4, \"rouge\", \"Twingo\")\n",
    "moto_verte = Vehicule(2, \"Verte\", \"Kawasaki\")"
   ]
  },
  {
   "cell_type": "code",
   "execution_count": 107,
   "metadata": {},
   "outputs": [
    {
     "data": {
      "text/plain": [
       "4"
      ]
     },
     "execution_count": 107,
     "metadata": {},
     "output_type": "execute_result"
    }
   ],
   "source": [
    "voiture_rouge.roues"
   ]
  },
  {
   "cell_type": "code",
   "execution_count": 108,
   "metadata": {},
   "outputs": [
    {
     "data": {
      "text/plain": [
       "'rouge'"
      ]
     },
     "execution_count": 108,
     "metadata": {},
     "output_type": "execute_result"
    }
   ],
   "source": [
    "voiture_rouge.couleur"
   ]
  },
  {
   "cell_type": "code",
   "execution_count": 109,
   "metadata": {},
   "outputs": [
    {
     "name": "stdout",
     "output_type": "stream",
     "text": [
      "Voyage d'un point A à un point B\n"
     ]
    }
   ],
   "source": [
    "Vehicule.mouvement() # Methode Statique"
   ]
  },
  {
   "cell_type": "code",
   "execution_count": 110,
   "metadata": {},
   "outputs": [
    {
     "name": "stdout",
     "output_type": "stream",
     "text": [
      "Il y a 2 véhicules en circulation.\n"
     ]
    }
   ],
   "source": [
    "Vehicule.afficher_total() # Methode Statique"
   ]
  },
  {
   "cell_type": "code",
   "execution_count": 111,
   "metadata": {},
   "outputs": [
    {
     "name": "stdout",
     "output_type": "stream",
     "text": [
      "Le marque du véhicule est :  Twingo\n"
     ]
    }
   ],
   "source": [
    "voiture_rouge.afficher_marque()"
   ]
  },
  {
   "cell_type": "code",
   "execution_count": 112,
   "metadata": {},
   "outputs": [
    {
     "name": "stdout",
     "output_type": "stream",
     "text": [
      "Le prix est : 3000\n"
     ]
    }
   ],
   "source": [
    "voiture_rouge.afficher_prix()"
   ]
  }
 ],
 "metadata": {
  "kernelspec": {
   "display_name": "Python 3.10.6 ('venv': venv)",
   "language": "python",
   "name": "python3"
  },
  "language_info": {
   "codemirror_mode": {
    "name": "ipython",
    "version": 3
   },
   "file_extension": ".py",
   "mimetype": "text/x-python",
   "name": "python",
   "nbconvert_exporter": "python",
   "pygments_lexer": "ipython3",
   "version": "3.10.6"
  },
  "orig_nbformat": 4,
  "vscode": {
   "interpreter": {
    "hash": "5a537cdb13d7aeb39d11da608c8476043be259ee4aa207ebadd48cee87be9109"
   }
  }
 },
 "nbformat": 4,
 "nbformat_minor": 2
}
